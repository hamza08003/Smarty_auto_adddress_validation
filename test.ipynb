{
 "cells": [
  {
   "cell_type": "code",
   "execution_count": 16,
   "metadata": {},
   "outputs": [],
   "source": [
    "import pandas as pd"
   ]
  },
  {
   "cell_type": "code",
   "execution_count": 17,
   "metadata": {},
   "outputs": [],
   "source": [
    "file_path = 'Sample Adress.xlsx'\n",
    "df = pd.read_excel(file_path)"
   ]
  },
  {
   "cell_type": "code",
   "execution_count": 18,
   "metadata": {},
   "outputs": [
    {
     "name": "stdout",
     "output_type": "stream",
     "text": [
      "Address1: ['2908 Lincoln Oak Dr', '2925 Dudley Dr', '113475 W Valley St', 'ebay:v8pgxgw', 'ebay:y8p7gkb', 'ebay:28nt7zt', 'ebay:d8rhyx7', '61 Independence Dr', '4034 Crestview Ave', '37 Peacock Drive', '3466 Atlanta Hwy', 'N82W25822 Fairview Ln', '5018 amber valley pkwy s', '43 E Shirley St', '11248 Parrish Ave', '2901 Stadium Dr', '615 NE 148th St', '70124 Pinewood Avenue', '2417 Vista Hogar']\n",
      "Address2: [nan, nan, nan, '88 Birnam Street', '88 Birnam Street', '88 Birnam Street', '6 the corso', nan, nan, 'ebaya8rvqzs', nan, nan, 'Apt 302', nan, nan, '# 293562', nan, nan, nan]\n",
      "City: ['Modesto', 'Edmond', 'Endicott', 'Beaudesert', 'Beaudesert', 'Beaudesert', 'forster', 'Shippensburg', 'Easton', 'Paisley', 'Montgomery', 'Sussex', 'Fargo', 'Mount Union', 'Cedar Lake', 'Fort Worth', 'Vancouver', 'Hueytown', 'Newport Beach']\n",
      "Province/State: ['CA', 'OK', 'NY', 'QLD', 'QLD', 'QLD', 'New South Wales', 'PA', 'PA', 'Renfrewshire', 'AL', 'WI', 'ND', 'PA', 'IN', 'TX', 'WA', 'AL', 'CA']\n",
      "Zip Code: ['95355-8739', '73012-4459', '13760-4767', 4285, 4285, 4285, 2428, '17257-8218', '18045-2331', 'PA2 9AT', '36109-2735', '53089-1443', '58104-8715', '17066-1385', '46303-9254', '76129-0006', '98685-5743', '35023-1027', '92660-4035']\n",
      "Telephone Number 1: [nan, nan, nan, nan, nan, nan, nan, nan, nan, nan, nan, nan, nan, nan, nan, nan, nan, nan, nan]\n",
      "Country: ['United States', 'United States', 'United States', 'Australia', 'Australia', 'Australia', 'Australia', 'United States', 'United States', 'United Kingdom', 'United States', 'United States', 'United States', 'United States', 'United States', 'United States', 'United States', 'United States', 'United States']\n",
      "Status: [nan, nan, nan, nan, nan, nan, nan, nan, nan, nan, nan, nan, nan, nan, nan, nan, nan, nan, nan]\n"
     ]
    }
   ],
   "source": [
    "data = {}\n",
    "for column in df.columns:\n",
    "    data[column] = df[column].tolist()\n",
    "\n",
    "for key, value in data.items():\n",
    "    print(f\"{key}: {value}\")"
   ]
  },
  {
   "cell_type": "code",
   "execution_count": 19,
   "metadata": {},
   "outputs": [
    {
     "name": "stdout",
     "output_type": "stream",
     "text": [
      "Index(['Address1', 'Address2', 'City', 'Province/State', 'Zip Code',\n",
      "       'Telephone Number 1', 'Country', 'Status'],\n",
      "      dtype='object')\n"
     ]
    }
   ],
   "source": [
    "print(df.columns)"
   ]
  },
  {
   "cell_type": "code",
   "execution_count": 21,
   "metadata": {},
   "outputs": [],
   "source": [
    "us_addresses = df[df['Country'] == 'United States']\n",
    "other_addresses = df[df['Country'] != 'United States']"
   ]
  },
  {
   "cell_type": "code",
   "execution_count": 22,
   "metadata": {},
   "outputs": [
    {
     "data": {
      "text/html": [
       "<div>\n",
       "<style scoped>\n",
       "    .dataframe tbody tr th:only-of-type {\n",
       "        vertical-align: middle;\n",
       "    }\n",
       "\n",
       "    .dataframe tbody tr th {\n",
       "        vertical-align: top;\n",
       "    }\n",
       "\n",
       "    .dataframe thead th {\n",
       "        text-align: right;\n",
       "    }\n",
       "</style>\n",
       "<table border=\"1\" class=\"dataframe\">\n",
       "  <thead>\n",
       "    <tr style=\"text-align: right;\">\n",
       "      <th></th>\n",
       "      <th>Address1</th>\n",
       "      <th>Address2</th>\n",
       "      <th>City</th>\n",
       "      <th>Province/State</th>\n",
       "      <th>Zip Code</th>\n",
       "      <th>Telephone Number 1</th>\n",
       "      <th>Country</th>\n",
       "      <th>Status</th>\n",
       "    </tr>\n",
       "  </thead>\n",
       "  <tbody>\n",
       "    <tr>\n",
       "      <th>0</th>\n",
       "      <td>2908 Lincoln Oak Dr</td>\n",
       "      <td>NaN</td>\n",
       "      <td>Modesto</td>\n",
       "      <td>CA</td>\n",
       "      <td>95355-8739</td>\n",
       "      <td>NaN</td>\n",
       "      <td>United States</td>\n",
       "      <td>NaN</td>\n",
       "    </tr>\n",
       "    <tr>\n",
       "      <th>1</th>\n",
       "      <td>2925 Dudley Dr</td>\n",
       "      <td>NaN</td>\n",
       "      <td>Edmond</td>\n",
       "      <td>OK</td>\n",
       "      <td>73012-4459</td>\n",
       "      <td>NaN</td>\n",
       "      <td>United States</td>\n",
       "      <td>NaN</td>\n",
       "    </tr>\n",
       "    <tr>\n",
       "      <th>2</th>\n",
       "      <td>113475 W Valley St</td>\n",
       "      <td>NaN</td>\n",
       "      <td>Endicott</td>\n",
       "      <td>NY</td>\n",
       "      <td>13760-4767</td>\n",
       "      <td>NaN</td>\n",
       "      <td>United States</td>\n",
       "      <td>NaN</td>\n",
       "    </tr>\n",
       "    <tr>\n",
       "      <th>7</th>\n",
       "      <td>61 Independence Dr</td>\n",
       "      <td>NaN</td>\n",
       "      <td>Shippensburg</td>\n",
       "      <td>PA</td>\n",
       "      <td>17257-8218</td>\n",
       "      <td>NaN</td>\n",
       "      <td>United States</td>\n",
       "      <td>NaN</td>\n",
       "    </tr>\n",
       "    <tr>\n",
       "      <th>8</th>\n",
       "      <td>4034 Crestview Ave</td>\n",
       "      <td>NaN</td>\n",
       "      <td>Easton</td>\n",
       "      <td>PA</td>\n",
       "      <td>18045-2331</td>\n",
       "      <td>NaN</td>\n",
       "      <td>United States</td>\n",
       "      <td>NaN</td>\n",
       "    </tr>\n",
       "    <tr>\n",
       "      <th>10</th>\n",
       "      <td>3466 Atlanta Hwy</td>\n",
       "      <td>NaN</td>\n",
       "      <td>Montgomery</td>\n",
       "      <td>AL</td>\n",
       "      <td>36109-2735</td>\n",
       "      <td>NaN</td>\n",
       "      <td>United States</td>\n",
       "      <td>NaN</td>\n",
       "    </tr>\n",
       "    <tr>\n",
       "      <th>11</th>\n",
       "      <td>N82W25822 Fairview Ln</td>\n",
       "      <td>NaN</td>\n",
       "      <td>Sussex</td>\n",
       "      <td>WI</td>\n",
       "      <td>53089-1443</td>\n",
       "      <td>NaN</td>\n",
       "      <td>United States</td>\n",
       "      <td>NaN</td>\n",
       "    </tr>\n",
       "    <tr>\n",
       "      <th>12</th>\n",
       "      <td>5018 amber valley pkwy s</td>\n",
       "      <td>Apt 302</td>\n",
       "      <td>Fargo</td>\n",
       "      <td>ND</td>\n",
       "      <td>58104-8715</td>\n",
       "      <td>NaN</td>\n",
       "      <td>United States</td>\n",
       "      <td>NaN</td>\n",
       "    </tr>\n",
       "    <tr>\n",
       "      <th>13</th>\n",
       "      <td>43 E Shirley St</td>\n",
       "      <td>NaN</td>\n",
       "      <td>Mount Union</td>\n",
       "      <td>PA</td>\n",
       "      <td>17066-1385</td>\n",
       "      <td>NaN</td>\n",
       "      <td>United States</td>\n",
       "      <td>NaN</td>\n",
       "    </tr>\n",
       "    <tr>\n",
       "      <th>14</th>\n",
       "      <td>11248 Parrish Ave</td>\n",
       "      <td>NaN</td>\n",
       "      <td>Cedar Lake</td>\n",
       "      <td>IN</td>\n",
       "      <td>46303-9254</td>\n",
       "      <td>NaN</td>\n",
       "      <td>United States</td>\n",
       "      <td>NaN</td>\n",
       "    </tr>\n",
       "    <tr>\n",
       "      <th>15</th>\n",
       "      <td>2901 Stadium Dr</td>\n",
       "      <td># 293562</td>\n",
       "      <td>Fort Worth</td>\n",
       "      <td>TX</td>\n",
       "      <td>76129-0006</td>\n",
       "      <td>NaN</td>\n",
       "      <td>United States</td>\n",
       "      <td>NaN</td>\n",
       "    </tr>\n",
       "    <tr>\n",
       "      <th>16</th>\n",
       "      <td>615 NE 148th St</td>\n",
       "      <td>NaN</td>\n",
       "      <td>Vancouver</td>\n",
       "      <td>WA</td>\n",
       "      <td>98685-5743</td>\n",
       "      <td>NaN</td>\n",
       "      <td>United States</td>\n",
       "      <td>NaN</td>\n",
       "    </tr>\n",
       "    <tr>\n",
       "      <th>17</th>\n",
       "      <td>70124 Pinewood Avenue</td>\n",
       "      <td>NaN</td>\n",
       "      <td>Hueytown</td>\n",
       "      <td>AL</td>\n",
       "      <td>35023-1027</td>\n",
       "      <td>NaN</td>\n",
       "      <td>United States</td>\n",
       "      <td>NaN</td>\n",
       "    </tr>\n",
       "    <tr>\n",
       "      <th>18</th>\n",
       "      <td>2417 Vista Hogar</td>\n",
       "      <td>NaN</td>\n",
       "      <td>Newport Beach</td>\n",
       "      <td>CA</td>\n",
       "      <td>92660-4035</td>\n",
       "      <td>NaN</td>\n",
       "      <td>United States</td>\n",
       "      <td>NaN</td>\n",
       "    </tr>\n",
       "  </tbody>\n",
       "</table>\n",
       "</div>"
      ],
      "text/plain": [
       "                    Address1  Address2           City Province/State  \\\n",
       "0        2908 Lincoln Oak Dr       NaN        Modesto             CA   \n",
       "1             2925 Dudley Dr       NaN         Edmond             OK   \n",
       "2         113475 W Valley St       NaN       Endicott             NY   \n",
       "7         61 Independence Dr       NaN   Shippensburg             PA   \n",
       "8         4034 Crestview Ave       NaN         Easton             PA   \n",
       "10          3466 Atlanta Hwy       NaN     Montgomery             AL   \n",
       "11     N82W25822 Fairview Ln       NaN         Sussex             WI   \n",
       "12  5018 amber valley pkwy s   Apt 302          Fargo             ND   \n",
       "13           43 E Shirley St       NaN    Mount Union             PA   \n",
       "14         11248 Parrish Ave       NaN     Cedar Lake             IN   \n",
       "15           2901 Stadium Dr  # 293562     Fort Worth             TX   \n",
       "16           615 NE 148th St       NaN      Vancouver             WA   \n",
       "17     70124 Pinewood Avenue       NaN       Hueytown             AL   \n",
       "18          2417 Vista Hogar       NaN  Newport Beach             CA   \n",
       "\n",
       "      Zip Code  Telephone Number 1        Country  Status  \n",
       "0   95355-8739                 NaN  United States     NaN  \n",
       "1   73012-4459                 NaN  United States     NaN  \n",
       "2   13760-4767                 NaN  United States     NaN  \n",
       "7   17257-8218                 NaN  United States     NaN  \n",
       "8   18045-2331                 NaN  United States     NaN  \n",
       "10  36109-2735                 NaN  United States     NaN  \n",
       "11  53089-1443                 NaN  United States     NaN  \n",
       "12  58104-8715                 NaN  United States     NaN  \n",
       "13  17066-1385                 NaN  United States     NaN  \n",
       "14  46303-9254                 NaN  United States     NaN  \n",
       "15  76129-0006                 NaN  United States     NaN  \n",
       "16  98685-5743                 NaN  United States     NaN  \n",
       "17  35023-1027                 NaN  United States     NaN  \n",
       "18  92660-4035                 NaN  United States     NaN  "
      ]
     },
     "execution_count": 22,
     "metadata": {},
     "output_type": "execute_result"
    }
   ],
   "source": [
    "us_addresses"
   ]
  },
  {
   "cell_type": "code",
   "execution_count": 23,
   "metadata": {},
   "outputs": [
    {
     "data": {
      "text/html": [
       "<div>\n",
       "<style scoped>\n",
       "    .dataframe tbody tr th:only-of-type {\n",
       "        vertical-align: middle;\n",
       "    }\n",
       "\n",
       "    .dataframe tbody tr th {\n",
       "        vertical-align: top;\n",
       "    }\n",
       "\n",
       "    .dataframe thead th {\n",
       "        text-align: right;\n",
       "    }\n",
       "</style>\n",
       "<table border=\"1\" class=\"dataframe\">\n",
       "  <thead>\n",
       "    <tr style=\"text-align: right;\">\n",
       "      <th></th>\n",
       "      <th>Address1</th>\n",
       "      <th>Address2</th>\n",
       "      <th>City</th>\n",
       "      <th>Province/State</th>\n",
       "      <th>Zip Code</th>\n",
       "      <th>Telephone Number 1</th>\n",
       "      <th>Country</th>\n",
       "      <th>Status</th>\n",
       "    </tr>\n",
       "  </thead>\n",
       "  <tbody>\n",
       "    <tr>\n",
       "      <th>3</th>\n",
       "      <td>ebay:v8pgxgw</td>\n",
       "      <td>88 Birnam Street</td>\n",
       "      <td>Beaudesert</td>\n",
       "      <td>QLD</td>\n",
       "      <td>4285</td>\n",
       "      <td>NaN</td>\n",
       "      <td>Australia</td>\n",
       "      <td>NaN</td>\n",
       "    </tr>\n",
       "    <tr>\n",
       "      <th>4</th>\n",
       "      <td>ebay:y8p7gkb</td>\n",
       "      <td>88 Birnam Street</td>\n",
       "      <td>Beaudesert</td>\n",
       "      <td>QLD</td>\n",
       "      <td>4285</td>\n",
       "      <td>NaN</td>\n",
       "      <td>Australia</td>\n",
       "      <td>NaN</td>\n",
       "    </tr>\n",
       "    <tr>\n",
       "      <th>5</th>\n",
       "      <td>ebay:28nt7zt</td>\n",
       "      <td>88 Birnam Street</td>\n",
       "      <td>Beaudesert</td>\n",
       "      <td>QLD</td>\n",
       "      <td>4285</td>\n",
       "      <td>NaN</td>\n",
       "      <td>Australia</td>\n",
       "      <td>NaN</td>\n",
       "    </tr>\n",
       "    <tr>\n",
       "      <th>6</th>\n",
       "      <td>ebay:d8rhyx7</td>\n",
       "      <td>6 the corso</td>\n",
       "      <td>forster</td>\n",
       "      <td>New South Wales</td>\n",
       "      <td>2428</td>\n",
       "      <td>NaN</td>\n",
       "      <td>Australia</td>\n",
       "      <td>NaN</td>\n",
       "    </tr>\n",
       "    <tr>\n",
       "      <th>9</th>\n",
       "      <td>37 Peacock Drive</td>\n",
       "      <td>ebaya8rvqzs</td>\n",
       "      <td>Paisley</td>\n",
       "      <td>Renfrewshire</td>\n",
       "      <td>PA2 9AT</td>\n",
       "      <td>NaN</td>\n",
       "      <td>United Kingdom</td>\n",
       "      <td>NaN</td>\n",
       "    </tr>\n",
       "  </tbody>\n",
       "</table>\n",
       "</div>"
      ],
      "text/plain": [
       "           Address1          Address2        City   Province/State Zip Code  \\\n",
       "3      ebay:v8pgxgw  88 Birnam Street  Beaudesert              QLD     4285   \n",
       "4      ebay:y8p7gkb  88 Birnam Street  Beaudesert              QLD     4285   \n",
       "5      ebay:28nt7zt  88 Birnam Street  Beaudesert              QLD     4285   \n",
       "6      ebay:d8rhyx7       6 the corso     forster  New South Wales     2428   \n",
       "9  37 Peacock Drive       ebaya8rvqzs     Paisley     Renfrewshire  PA2 9AT   \n",
       "\n",
       "   Telephone Number 1         Country  Status  \n",
       "3                 NaN       Australia     NaN  \n",
       "4                 NaN       Australia     NaN  \n",
       "5                 NaN       Australia     NaN  \n",
       "6                 NaN       Australia     NaN  \n",
       "9                 NaN  United Kingdom     NaN  "
      ]
     },
     "execution_count": 23,
     "metadata": {},
     "output_type": "execute_result"
    }
   ],
   "source": [
    "other_addresses"
   ]
  },
  {
   "cell_type": "markdown",
   "metadata": {},
   "source": [
    "# SELENIUM SCRIPT"
   ]
  },
  {
   "cell_type": "code",
   "execution_count": 24,
   "metadata": {},
   "outputs": [],
   "source": [
    "import undetected_chromedriver as uc\n",
    "from selenium.webdriver.common.by import By\n",
    "from selenium.webdriver.support import expected_conditions as EC\n",
    "from selenium.webdriver.common.keys import Keys\n",
    "from selenium.webdriver.common.action_chains import ActionChains\n",
    "from selenium.webdriver.support.wait import WebDriverWait\n",
    "import time"
   ]
  },
  {
   "cell_type": "code",
   "execution_count": 25,
   "metadata": {},
   "outputs": [
    {
     "ename": "SessionNotCreatedException",
     "evalue": "Message: session not created: cannot connect to chrome at 127.0.0.1:61969\nfrom session not created: This version of ChromeDriver only supports Chrome version 126\nCurrent browser version is 125.0.6422.142\nStacktrace:\n\tGetHandleVerifier [0x003F0E23+27667]\n\t(No symbol) [0x00386B24]\n\t(No symbol) [0x00281AFF]\n\t(No symbol) [0x002B4B1A]\n\t(No symbol) [0x002B3E7D]\n\t(No symbol) [0x002AACC0]\n\t(No symbol) [0x002AAB07]\n\t(No symbol) [0x002ED523]\n\t(No symbol) [0x002ECD4A]\n\t(No symbol) [0x002E36C6]\n\t(No symbol) [0x002B74D1]\n\t(No symbol) [0x002B804D]\n\tGetHandleVerifier [0x006A3CA3+2857619]\n\tGetHandleVerifier [0x006F7E0D+3202045]\n\tGetHandleVerifier [0x00474624+566292]\n\tGetHandleVerifier [0x0047B81C+595468]\n\t(No symbol) [0x0038F914]\n\t(No symbol) [0x0038C628]\n\t(No symbol) [0x0038C7C7]\n\t(No symbol) [0x0037E6BE]\n\tBaseThreadInitThunk [0x76947BA9+25]\n\tRtlInitializeExceptionChain [0x7778BE7B+107]\n\tRtlClearBits [0x7778BDFF+191]\n",
     "output_type": "error",
     "traceback": [
      "\u001b[1;31m---------------------------------------------------------------------------\u001b[0m",
      "\u001b[1;31mSessionNotCreatedException\u001b[0m                Traceback (most recent call last)",
      "Cell \u001b[1;32mIn[25], line 3\u001b[0m\n\u001b[0;32m      1\u001b[0m chrome_options \u001b[38;5;241m=\u001b[39m uc\u001b[38;5;241m.\u001b[39mChromeOptions()\n\u001b[0;32m      2\u001b[0m chrome_options\u001b[38;5;241m.\u001b[39madd_argument(\u001b[38;5;124mr\u001b[39m\u001b[38;5;124m'\u001b[39m\u001b[38;5;124m--no-sandbox\u001b[39m\u001b[38;5;124m'\u001b[39m)\n\u001b[1;32m----> 3\u001b[0m driver \u001b[38;5;241m=\u001b[39m \u001b[43muc\u001b[49m\u001b[38;5;241;43m.\u001b[39;49m\u001b[43mChrome\u001b[49m\u001b[43m(\u001b[49m\u001b[43moptions\u001b[49m\u001b[38;5;241;43m=\u001b[39;49m\u001b[43mchrome_options\u001b[49m\u001b[43m)\u001b[49m\n\u001b[0;32m      4\u001b[0m driver\u001b[38;5;241m.\u001b[39mmaximize_window()\n\u001b[0;32m      5\u001b[0m driver\u001b[38;5;241m.\u001b[39mget(\u001b[38;5;124m\"\u001b[39m\u001b[38;5;124mhttps://www.smarty.com/products/single-address?street\u001b[39m\u001b[38;5;124m\"\u001b[39m)\n",
      "File \u001b[1;32mc:\\Users\\hamza\\AppData\\Local\\Programs\\Python\\Python312\\Lib\\site-packages\\undetected_chromedriver\\__init__.py:466\u001b[0m, in \u001b[0;36mChrome.__init__\u001b[1;34m(self, options, user_data_dir, driver_executable_path, browser_executable_path, port, enable_cdp_events, desired_capabilities, advanced_elements, keep_alive, log_level, headless, version_main, patcher_force_close, suppress_welcome, use_subprocess, debug, no_sandbox, user_multi_procs, **kw)\u001b[0m\n\u001b[0;32m    459\u001b[0m     \u001b[38;5;28mself\u001b[39m\u001b[38;5;241m.\u001b[39mbrowser_pid \u001b[38;5;241m=\u001b[39m browser\u001b[38;5;241m.\u001b[39mpid\n\u001b[0;32m    462\u001b[0m service \u001b[38;5;241m=\u001b[39m selenium\u001b[38;5;241m.\u001b[39mwebdriver\u001b[38;5;241m.\u001b[39mchromium\u001b[38;5;241m.\u001b[39mservice\u001b[38;5;241m.\u001b[39mChromiumService(\n\u001b[0;32m    463\u001b[0m     \u001b[38;5;28mself\u001b[39m\u001b[38;5;241m.\u001b[39mpatcher\u001b[38;5;241m.\u001b[39mexecutable_path\n\u001b[0;32m    464\u001b[0m )\n\u001b[1;32m--> 466\u001b[0m \u001b[38;5;28;43msuper\u001b[39;49m\u001b[43m(\u001b[49m\u001b[43mChrome\u001b[49m\u001b[43m,\u001b[49m\u001b[43m \u001b[49m\u001b[38;5;28;43mself\u001b[39;49m\u001b[43m)\u001b[49m\u001b[38;5;241;43m.\u001b[39;49m\u001b[38;5;21;43m__init__\u001b[39;49m\u001b[43m(\u001b[49m\n\u001b[0;32m    467\u001b[0m \u001b[43m    \u001b[49m\u001b[43mservice\u001b[49m\u001b[38;5;241;43m=\u001b[39;49m\u001b[43mservice\u001b[49m\u001b[43m,\u001b[49m\n\u001b[0;32m    468\u001b[0m \u001b[43m    \u001b[49m\u001b[43moptions\u001b[49m\u001b[38;5;241;43m=\u001b[39;49m\u001b[43moptions\u001b[49m\u001b[43m,\u001b[49m\n\u001b[0;32m    469\u001b[0m \u001b[43m    \u001b[49m\u001b[43mkeep_alive\u001b[49m\u001b[38;5;241;43m=\u001b[39;49m\u001b[43mkeep_alive\u001b[49m\u001b[43m,\u001b[49m\n\u001b[0;32m    470\u001b[0m \u001b[43m\u001b[49m\u001b[43m)\u001b[49m\n\u001b[0;32m    472\u001b[0m \u001b[38;5;28mself\u001b[39m\u001b[38;5;241m.\u001b[39mreactor \u001b[38;5;241m=\u001b[39m \u001b[38;5;28;01mNone\u001b[39;00m\n\u001b[0;32m    474\u001b[0m \u001b[38;5;28;01mif\u001b[39;00m enable_cdp_events:\n",
      "File \u001b[1;32mc:\\Users\\hamza\\AppData\\Local\\Programs\\Python\\Python312\\Lib\\site-packages\\selenium\\webdriver\\chrome\\webdriver.py:45\u001b[0m, in \u001b[0;36mWebDriver.__init__\u001b[1;34m(self, options, service, keep_alive)\u001b[0m\n\u001b[0;32m     42\u001b[0m service \u001b[38;5;241m=\u001b[39m service \u001b[38;5;28;01mif\u001b[39;00m service \u001b[38;5;28;01melse\u001b[39;00m Service()\n\u001b[0;32m     43\u001b[0m options \u001b[38;5;241m=\u001b[39m options \u001b[38;5;28;01mif\u001b[39;00m options \u001b[38;5;28;01melse\u001b[39;00m Options()\n\u001b[1;32m---> 45\u001b[0m \u001b[38;5;28;43msuper\u001b[39;49m\u001b[43m(\u001b[49m\u001b[43m)\u001b[49m\u001b[38;5;241;43m.\u001b[39;49m\u001b[38;5;21;43m__init__\u001b[39;49m\u001b[43m(\u001b[49m\n\u001b[0;32m     46\u001b[0m \u001b[43m    \u001b[49m\u001b[43mbrowser_name\u001b[49m\u001b[38;5;241;43m=\u001b[39;49m\u001b[43mDesiredCapabilities\u001b[49m\u001b[38;5;241;43m.\u001b[39;49m\u001b[43mCHROME\u001b[49m\u001b[43m[\u001b[49m\u001b[38;5;124;43m\"\u001b[39;49m\u001b[38;5;124;43mbrowserName\u001b[39;49m\u001b[38;5;124;43m\"\u001b[39;49m\u001b[43m]\u001b[49m\u001b[43m,\u001b[49m\n\u001b[0;32m     47\u001b[0m \u001b[43m    \u001b[49m\u001b[43mvendor_prefix\u001b[49m\u001b[38;5;241;43m=\u001b[39;49m\u001b[38;5;124;43m\"\u001b[39;49m\u001b[38;5;124;43mgoog\u001b[39;49m\u001b[38;5;124;43m\"\u001b[39;49m\u001b[43m,\u001b[49m\n\u001b[0;32m     48\u001b[0m \u001b[43m    \u001b[49m\u001b[43moptions\u001b[49m\u001b[38;5;241;43m=\u001b[39;49m\u001b[43moptions\u001b[49m\u001b[43m,\u001b[49m\n\u001b[0;32m     49\u001b[0m \u001b[43m    \u001b[49m\u001b[43mservice\u001b[49m\u001b[38;5;241;43m=\u001b[39;49m\u001b[43mservice\u001b[49m\u001b[43m,\u001b[49m\n\u001b[0;32m     50\u001b[0m \u001b[43m    \u001b[49m\u001b[43mkeep_alive\u001b[49m\u001b[38;5;241;43m=\u001b[39;49m\u001b[43mkeep_alive\u001b[49m\u001b[43m,\u001b[49m\n\u001b[0;32m     51\u001b[0m \u001b[43m\u001b[49m\u001b[43m)\u001b[49m\n",
      "File \u001b[1;32mc:\\Users\\hamza\\AppData\\Local\\Programs\\Python\\Python312\\Lib\\site-packages\\selenium\\webdriver\\chromium\\webdriver.py:66\u001b[0m, in \u001b[0;36mChromiumDriver.__init__\u001b[1;34m(self, browser_name, vendor_prefix, options, service, keep_alive)\u001b[0m\n\u001b[0;32m     57\u001b[0m executor \u001b[38;5;241m=\u001b[39m ChromiumRemoteConnection(\n\u001b[0;32m     58\u001b[0m     remote_server_addr\u001b[38;5;241m=\u001b[39m\u001b[38;5;28mself\u001b[39m\u001b[38;5;241m.\u001b[39mservice\u001b[38;5;241m.\u001b[39mservice_url,\n\u001b[0;32m     59\u001b[0m     browser_name\u001b[38;5;241m=\u001b[39mbrowser_name,\n\u001b[1;32m   (...)\u001b[0m\n\u001b[0;32m     62\u001b[0m     ignore_proxy\u001b[38;5;241m=\u001b[39moptions\u001b[38;5;241m.\u001b[39m_ignore_local_proxy,\n\u001b[0;32m     63\u001b[0m )\n\u001b[0;32m     65\u001b[0m \u001b[38;5;28;01mtry\u001b[39;00m:\n\u001b[1;32m---> 66\u001b[0m     \u001b[38;5;28;43msuper\u001b[39;49m\u001b[43m(\u001b[49m\u001b[43m)\u001b[49m\u001b[38;5;241;43m.\u001b[39;49m\u001b[38;5;21;43m__init__\u001b[39;49m\u001b[43m(\u001b[49m\u001b[43mcommand_executor\u001b[49m\u001b[38;5;241;43m=\u001b[39;49m\u001b[43mexecutor\u001b[49m\u001b[43m,\u001b[49m\u001b[43m \u001b[49m\u001b[43moptions\u001b[49m\u001b[38;5;241;43m=\u001b[39;49m\u001b[43moptions\u001b[49m\u001b[43m)\u001b[49m\n\u001b[0;32m     67\u001b[0m \u001b[38;5;28;01mexcept\u001b[39;00m \u001b[38;5;167;01mException\u001b[39;00m:\n\u001b[0;32m     68\u001b[0m     \u001b[38;5;28mself\u001b[39m\u001b[38;5;241m.\u001b[39mquit()\n",
      "File \u001b[1;32mc:\\Users\\hamza\\AppData\\Local\\Programs\\Python\\Python312\\Lib\\site-packages\\selenium\\webdriver\\remote\\webdriver.py:208\u001b[0m, in \u001b[0;36mWebDriver.__init__\u001b[1;34m(self, command_executor, keep_alive, file_detector, options)\u001b[0m\n\u001b[0;32m    206\u001b[0m \u001b[38;5;28mself\u001b[39m\u001b[38;5;241m.\u001b[39m_authenticator_id \u001b[38;5;241m=\u001b[39m \u001b[38;5;28;01mNone\u001b[39;00m\n\u001b[0;32m    207\u001b[0m \u001b[38;5;28mself\u001b[39m\u001b[38;5;241m.\u001b[39mstart_client()\n\u001b[1;32m--> 208\u001b[0m \u001b[38;5;28;43mself\u001b[39;49m\u001b[38;5;241;43m.\u001b[39;49m\u001b[43mstart_session\u001b[49m\u001b[43m(\u001b[49m\u001b[43mcapabilities\u001b[49m\u001b[43m)\u001b[49m\n",
      "File \u001b[1;32mc:\\Users\\hamza\\AppData\\Local\\Programs\\Python\\Python312\\Lib\\site-packages\\undetected_chromedriver\\__init__.py:724\u001b[0m, in \u001b[0;36mChrome.start_session\u001b[1;34m(self, capabilities, browser_profile)\u001b[0m\n\u001b[0;32m    722\u001b[0m \u001b[38;5;28;01mif\u001b[39;00m \u001b[38;5;129;01mnot\u001b[39;00m capabilities:\n\u001b[0;32m    723\u001b[0m     capabilities \u001b[38;5;241m=\u001b[39m \u001b[38;5;28mself\u001b[39m\u001b[38;5;241m.\u001b[39moptions\u001b[38;5;241m.\u001b[39mto_capabilities()\n\u001b[1;32m--> 724\u001b[0m \u001b[38;5;28;43msuper\u001b[39;49m\u001b[43m(\u001b[49m\u001b[43mselenium\u001b[49m\u001b[38;5;241;43m.\u001b[39;49m\u001b[43mwebdriver\u001b[49m\u001b[38;5;241;43m.\u001b[39;49m\u001b[43mchrome\u001b[49m\u001b[38;5;241;43m.\u001b[39;49m\u001b[43mwebdriver\u001b[49m\u001b[38;5;241;43m.\u001b[39;49m\u001b[43mWebDriver\u001b[49m\u001b[43m,\u001b[49m\u001b[43m \u001b[49m\u001b[38;5;28;43mself\u001b[39;49m\u001b[43m)\u001b[49m\u001b[38;5;241;43m.\u001b[39;49m\u001b[43mstart_session\u001b[49m\u001b[43m(\u001b[49m\n\u001b[0;32m    725\u001b[0m \u001b[43m    \u001b[49m\u001b[43mcapabilities\u001b[49m\n\u001b[0;32m    726\u001b[0m \u001b[43m\u001b[49m\u001b[43m)\u001b[49m\n",
      "File \u001b[1;32mc:\\Users\\hamza\\AppData\\Local\\Programs\\Python\\Python312\\Lib\\site-packages\\selenium\\webdriver\\remote\\webdriver.py:292\u001b[0m, in \u001b[0;36mWebDriver.start_session\u001b[1;34m(self, capabilities)\u001b[0m\n\u001b[0;32m    285\u001b[0m \u001b[38;5;250m\u001b[39m\u001b[38;5;124;03m\"\"\"Creates a new session with the desired capabilities.\u001b[39;00m\n\u001b[0;32m    286\u001b[0m \n\u001b[0;32m    287\u001b[0m \u001b[38;5;124;03m:Args:\u001b[39;00m\n\u001b[0;32m    288\u001b[0m \u001b[38;5;124;03m - capabilities - a capabilities dict to start the session with.\u001b[39;00m\n\u001b[0;32m    289\u001b[0m \u001b[38;5;124;03m\"\"\"\u001b[39;00m\n\u001b[0;32m    291\u001b[0m caps \u001b[38;5;241m=\u001b[39m _create_caps(capabilities)\n\u001b[1;32m--> 292\u001b[0m response \u001b[38;5;241m=\u001b[39m \u001b[38;5;28;43mself\u001b[39;49m\u001b[38;5;241;43m.\u001b[39;49m\u001b[43mexecute\u001b[49m\u001b[43m(\u001b[49m\u001b[43mCommand\u001b[49m\u001b[38;5;241;43m.\u001b[39;49m\u001b[43mNEW_SESSION\u001b[49m\u001b[43m,\u001b[49m\u001b[43m \u001b[49m\u001b[43mcaps\u001b[49m\u001b[43m)\u001b[49m[\u001b[38;5;124m\"\u001b[39m\u001b[38;5;124mvalue\u001b[39m\u001b[38;5;124m\"\u001b[39m]\n\u001b[0;32m    293\u001b[0m \u001b[38;5;28mself\u001b[39m\u001b[38;5;241m.\u001b[39msession_id \u001b[38;5;241m=\u001b[39m response\u001b[38;5;241m.\u001b[39mget(\u001b[38;5;124m\"\u001b[39m\u001b[38;5;124msessionId\u001b[39m\u001b[38;5;124m\"\u001b[39m)\n\u001b[0;32m    294\u001b[0m \u001b[38;5;28mself\u001b[39m\u001b[38;5;241m.\u001b[39mcaps \u001b[38;5;241m=\u001b[39m response\u001b[38;5;241m.\u001b[39mget(\u001b[38;5;124m\"\u001b[39m\u001b[38;5;124mcapabilities\u001b[39m\u001b[38;5;124m\"\u001b[39m)\n",
      "File \u001b[1;32mc:\\Users\\hamza\\AppData\\Local\\Programs\\Python\\Python312\\Lib\\site-packages\\selenium\\webdriver\\remote\\webdriver.py:347\u001b[0m, in \u001b[0;36mWebDriver.execute\u001b[1;34m(self, driver_command, params)\u001b[0m\n\u001b[0;32m    345\u001b[0m response \u001b[38;5;241m=\u001b[39m \u001b[38;5;28mself\u001b[39m\u001b[38;5;241m.\u001b[39mcommand_executor\u001b[38;5;241m.\u001b[39mexecute(driver_command, params)\n\u001b[0;32m    346\u001b[0m \u001b[38;5;28;01mif\u001b[39;00m response:\n\u001b[1;32m--> 347\u001b[0m     \u001b[38;5;28;43mself\u001b[39;49m\u001b[38;5;241;43m.\u001b[39;49m\u001b[43merror_handler\u001b[49m\u001b[38;5;241;43m.\u001b[39;49m\u001b[43mcheck_response\u001b[49m\u001b[43m(\u001b[49m\u001b[43mresponse\u001b[49m\u001b[43m)\u001b[49m\n\u001b[0;32m    348\u001b[0m     response[\u001b[38;5;124m\"\u001b[39m\u001b[38;5;124mvalue\u001b[39m\u001b[38;5;124m\"\u001b[39m] \u001b[38;5;241m=\u001b[39m \u001b[38;5;28mself\u001b[39m\u001b[38;5;241m.\u001b[39m_unwrap_value(response\u001b[38;5;241m.\u001b[39mget(\u001b[38;5;124m\"\u001b[39m\u001b[38;5;124mvalue\u001b[39m\u001b[38;5;124m\"\u001b[39m, \u001b[38;5;28;01mNone\u001b[39;00m))\n\u001b[0;32m    349\u001b[0m     \u001b[38;5;28;01mreturn\u001b[39;00m response\n",
      "File \u001b[1;32mc:\\Users\\hamza\\AppData\\Local\\Programs\\Python\\Python312\\Lib\\site-packages\\selenium\\webdriver\\remote\\errorhandler.py:229\u001b[0m, in \u001b[0;36mErrorHandler.check_response\u001b[1;34m(self, response)\u001b[0m\n\u001b[0;32m    227\u001b[0m         alert_text \u001b[38;5;241m=\u001b[39m value[\u001b[38;5;124m\"\u001b[39m\u001b[38;5;124malert\u001b[39m\u001b[38;5;124m\"\u001b[39m]\u001b[38;5;241m.\u001b[39mget(\u001b[38;5;124m\"\u001b[39m\u001b[38;5;124mtext\u001b[39m\u001b[38;5;124m\"\u001b[39m)\n\u001b[0;32m    228\u001b[0m     \u001b[38;5;28;01mraise\u001b[39;00m exception_class(message, screen, stacktrace, alert_text)  \u001b[38;5;66;03m# type: ignore[call-arg]  # mypy is not smart enough here\u001b[39;00m\n\u001b[1;32m--> 229\u001b[0m \u001b[38;5;28;01mraise\u001b[39;00m exception_class(message, screen, stacktrace)\n",
      "\u001b[1;31mSessionNotCreatedException\u001b[0m: Message: session not created: cannot connect to chrome at 127.0.0.1:61969\nfrom session not created: This version of ChromeDriver only supports Chrome version 126\nCurrent browser version is 125.0.6422.142\nStacktrace:\n\tGetHandleVerifier [0x003F0E23+27667]\n\t(No symbol) [0x00386B24]\n\t(No symbol) [0x00281AFF]\n\t(No symbol) [0x002B4B1A]\n\t(No symbol) [0x002B3E7D]\n\t(No symbol) [0x002AACC0]\n\t(No symbol) [0x002AAB07]\n\t(No symbol) [0x002ED523]\n\t(No symbol) [0x002ECD4A]\n\t(No symbol) [0x002E36C6]\n\t(No symbol) [0x002B74D1]\n\t(No symbol) [0x002B804D]\n\tGetHandleVerifier [0x006A3CA3+2857619]\n\tGetHandleVerifier [0x006F7E0D+3202045]\n\tGetHandleVerifier [0x00474624+566292]\n\tGetHandleVerifier [0x0047B81C+595468]\n\t(No symbol) [0x0038F914]\n\t(No symbol) [0x0038C628]\n\t(No symbol) [0x0038C7C7]\n\t(No symbol) [0x0037E6BE]\n\tBaseThreadInitThunk [0x76947BA9+25]\n\tRtlInitializeExceptionChain [0x7778BE7B+107]\n\tRtlClearBits [0x7778BDFF+191]\n"
     ]
    }
   ],
   "source": [
    "chrome_options = uc.ChromeOptions()\n",
    "chrome_options.add_argument(r'--no-sandbox')\n",
    "driver = uc.Chrome(options=chrome_options)\n",
    "driver.maximize_window()\n",
    "driver.get(\"https://www.smarty.com/products/single-address?street\")\n",
    "driver.execute_script(\"window.scrollBy(0, 1000);\")"
   ]
  },
  {
   "cell_type": "markdown",
   "metadata": {},
   "source": [
    "## Select & Target Elements"
   ]
  },
  {
   "cell_type": "markdown",
   "metadata": {},
   "source": [
    "### US / International Selection buttons and View Results button"
   ]
  },
  {
   "cell_type": "code",
   "execution_count": 29,
   "metadata": {},
   "outputs": [],
   "source": [
    "international_btn = driver.find_element(By.XPATH, \"//button[contains(text(), 'International')]\")\n",
    "us_btn = driver.find_element(By.XPATH, \"//button[contains(text(), 'US')]\")\n",
    "view_results_button = driver.find_element(By.XPATH, \"//button[contains(text(), 'View results')]\")"
   ]
  },
  {
   "cell_type": "markdown",
   "metadata": {},
   "source": [
    "### US Input field elements"
   ]
  },
  {
   "cell_type": "code",
   "execution_count": null,
   "metadata": {},
   "outputs": [],
   "source": [
    "address_line_1_input_field = driver.find_element(By.XPATH, \"//input[@id='us-street-address-entry']\")\n",
    "address_line_2_input_field = driver.find_element(By.XPATH, \"//label[contains(text(), 'Address line 2')]/following-sibling::div//input\")\n",
    "us_city_input_field = driver.find_element(By.XPATH, \"//label[contains(text(), 'City')]/following-sibling::div//input\")\n",
    "us_state_input_field = driver.find_element(By.XPATH, \"//label[contains(text(), 'State')]/following-sibling::div//input\")\n",
    "us_zip_code_input_field = driver.find_element(By.XPATH, \"//label[contains(text(), 'ZIP Code')]/following-sibling::div//input\")"
   ]
  },
  {
   "cell_type": "code",
   "execution_count": 44,
   "metadata": {},
   "outputs": [],
   "source": [
    "dropdown = driver.find_element(By.XPATH,\"//div[@role='combobox' and contains(text(), 'Address Components')]\")\n",
    "dropdown.click()"
   ]
  },
  {
   "cell_type": "code",
   "execution_count": 40,
   "metadata": {},
   "outputs": [],
   "source": [
    "down_arrow_presses = 2\n",
    "\n",
    "actions = ActionChains(driver)\n",
    "actions.move_to_element(dropdown).click().perform()\n",
    "\n",
    "# Press the down arrow key to navigate to the desired option\n",
    "for _ in range(down_arrow_presses):\n",
    "    actions.send_keys(Keys.ARROW_DOWN).perform()\n",
    "\n",
    "# Press Enter to select the option\n",
    "actions.send_keys(Keys.ENTER).perform()"
   ]
  },
  {
   "cell_type": "code",
   "execution_count": 43,
   "metadata": {},
   "outputs": [],
   "source": [
    "address_line_1_input_field.send_keys(data['Address1'][0])"
   ]
  },
  {
   "cell_type": "markdown",
   "metadata": {},
   "source": [
    "### International Input field elements"
   ]
  },
  {
   "cell_type": "code",
   "execution_count": null,
   "metadata": {},
   "outputs": [],
   "source": [
    "international_country_input = driver.find_element(By.XPATH, \"//input[@id='country-input']\")\n",
    "international_street_address_input = driver.find_element(By.XPATH, \"//input[@id='international-street-address-entry']\")\n",
    "international_locality_input = driver.find_element((By.XPATH, \"//input[@id=':r64:']\"))\n",
    "international_administrative_area_input = driver.find_element((By.XPATH, \"//input[@id=':r65:']\"))\n",
    "international_postal_code_input = driver.find_element((By.XPATH, \"//input[@id=':r66:']\"))"
   ]
  },
  {
   "cell_type": "code",
   "execution_count": 54,
   "metadata": {},
   "outputs": [],
   "source": [
    "country_name = \"Pakistan\"\n",
    "international_country_input.send_keys(country_name)\n",
    "actions.move_to_element(international_country_input).click().send_keys(Keys.DOWN).send_keys(Keys.ENTER).perform()"
   ]
  }
 ],
 "metadata": {
  "kernelspec": {
   "display_name": "Python 3",
   "language": "python",
   "name": "python3"
  },
  "language_info": {
   "codemirror_mode": {
    "name": "ipython",
    "version": 3
   },
   "file_extension": ".py",
   "mimetype": "text/x-python",
   "name": "python",
   "nbconvert_exporter": "python",
   "pygments_lexer": "ipython3",
   "version": "3.12.3"
  }
 },
 "nbformat": 4,
 "nbformat_minor": 2
}
